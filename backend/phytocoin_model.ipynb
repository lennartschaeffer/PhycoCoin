{
  "cells": [
    {
      "cell_type": "code",
      "execution_count": 3,
      "metadata": {
        "colab": {
          "base_uri": "https://localhost:8080/"
        },
        "id": "sfq_KoNCu3H1",
        "outputId": "d2deebc2-02bd-4665-ae0a-8f35f7c3c71f"
      },
      "outputs": [
        {
          "name": "stdout",
          "output_type": "stream",
          "text": [
            "\n",
            "✅ Feasible biomass report!\n",
            "\n",
            "Input type:              fresh biomass\n",
            "Reported biomass:        5000.00 lb\n",
            "Converted dry biomass:   500.00 lb\n",
            "Upper bound (dry):       1749.28 lb\n",
            "Reported / Q95 ratio:    0.29\n",
            "\n",
            "🌿 Nutrient Removal (based on dry biomass):\n",
            "• Carbon (33%):          165.00 lb\n",
            "• Nitrogen (2.5%):        12.50 lb\n",
            "• Phosphorus (0.3%):      1.50 lb\n",
            "\n",
            "💸 Credit Prices Used:\n",
            "• Carbon:     $0.13 per lb\n",
            "• Nitrogen:   $5.08 per lb\n",
            "• Phosphorus: $11.15 per lb\n",
            "\n",
            "🔢 PhycoCoin Calculation:\n",
            "Total PhycoCoin value = dry_biomass_lb × (\n",
            "  0.33 × 0.13 + 0.025 × 5.08 + 0.003 × 11.15 )\n",
            "=> Total PhycoCoin value: $101.68\n"
          ]
        },
        {
          "name": "stderr",
          "output_type": "stream",
          "text": [
            "<ipython-input-3-307624574>:57: DeprecationWarning: Conversion of an array with ndim > 0 to a scalar is deprecated, and will error in future. Ensure you extract a single element from your array before performing this operation. (Deprecated NumPy 1.25.)\n",
            "  q95_chl = float(qr_model.predict(x))\n"
          ]
        }
      ],
      "source": [
        "import pandas as pd\n",
        "import numpy as np\n",
        "from sklearn.linear_model import QuantileRegressor\n",
        "\n",
        "# 1. Load & prepare data\n",
        "df = pd.read_csv('cleaned_algae_data_complete.csv')\n",
        "\n",
        "# Environmental feature columns\n",
        "col_env = ['water_temperature', 'light', 'inorganic_nitrogen', 'total_phosphorus', 'secchi_depth']\n",
        "\n",
        "# X = environment features, y = chlorophyll (biomass proxy)\n",
        "X = df[col_env].values\n",
        "y = df['chlorophyll'].values\n",
        "\n",
        "# 2. Compute valid environmental ranges\n",
        "mins = df[col_env].min().values\n",
        "maxs = df[col_env].max().values\n",
        "\n",
        "# 3. Fit a 95% Quantile Regressor\n",
        "qr = QuantileRegressor(quantile=0.95, alpha=0.0)\n",
        "qr.fit(X, y)\n",
        "\n",
        "# 4. Constants\n",
        "FRESH_TO_DRY_RATIO = 0.1               # 10:1 fresh to dry\n",
        "DRY_TO_CHLORO_RATIO = 1 / 20           # 20:1 dry to chlorophyll (model is trained on chlorophyll)\n",
        "C_PCT = 0.33\n",
        "N_PCT = 0.025\n",
        "P_PCT = 0.003\n",
        "\n",
        "PRICE_C = 0.13    # per lb\n",
        "PRICE_N = 5.08\n",
        "PRICE_P = 11.15\n",
        "\n",
        "# 5. Nutrient & Value Calculation\n",
        "def calculate_phyco_credits(dry_biomass_lb):\n",
        "    c_lb = dry_biomass_lb * C_PCT\n",
        "    n_lb = dry_biomass_lb * N_PCT\n",
        "    p_lb = dry_biomass_lb * P_PCT\n",
        "\n",
        "    value_c = c_lb * PRICE_C\n",
        "    value_n = n_lb * PRICE_N\n",
        "    value_p = p_lb * PRICE_P\n",
        "    total_value = value_c + value_n + value_p\n",
        "\n",
        "    return {\n",
        "        'carbon_lb': c_lb,\n",
        "        'nitrogen_lb': n_lb,\n",
        "        'phosphorus_lb': p_lb,\n",
        "        'value_c_usd': value_c,\n",
        "        'value_n_usd': value_n,\n",
        "        'value_p_usd': value_p,\n",
        "        'total_usd': total_value\n",
        "    }\n",
        "\n",
        "def assess_biomass_feasibility(env_vars, reported_biomass_lb, is_dry_input, qr_model):\n",
        "    x = np.array(env_vars).reshape(1, -1)\n",
        "    q95_chl = float(qr_model.predict(x))\n",
        "\n",
        "    # Convert to dry biomass (if needed)\n",
        "    dry_biomass = reported_biomass_lb if is_dry_input else reported_biomass_lb * FRESH_TO_DRY_RATIO\n",
        "    q95_dry = q95_chl / DRY_TO_CHLORO_RATIO  # upper bound dry biomass\n",
        "    feasible = dry_biomass <= q95_dry\n",
        "    ratio = dry_biomass / q95_dry\n",
        "\n",
        "    credit_info = calculate_phyco_credits(dry_biomass)\n",
        "\n",
        "    return {\n",
        "        'feasible': feasible,\n",
        "        'q95_chlorophyll': q95_chl,\n",
        "        'q95_dry_biomass_lb': q95_dry,\n",
        "        'reported_input_biomass_lb': reported_biomass_lb,\n",
        "        'input_type': 'dry' if is_dry_input else 'fresh',\n",
        "        'reported_dry_biomass_lb': dry_biomass,\n",
        "        'ratio': ratio,\n",
        "        **credit_info\n",
        "    }\n",
        "\n",
        "def assess_with_domain_check(env_vars, reported_biomass_lb, is_dry_input, qr_model, mins, maxs):\n",
        "    env = np.array(env_vars)\n",
        "    if np.any(env < mins) or np.any(env > maxs):\n",
        "        return {\n",
        "            'feasible': False,\n",
        "            'reason': 'environmental conditions outside training range'\n",
        "        }\n",
        "    return assess_biomass_feasibility(env_vars, reported_biomass_lb, is_dry_input, qr_model)\n",
        "\n",
        "\n",
        "\n",
        "# %%\n",
        "# 8. Example usage\n",
        "env = [2, 14.2, 0.74, 0.24, 2.92]\n",
        "reported_biomass_lb = 5000       # farmer input\n",
        "is_dry_input = False            # ✅ True if dry, False if fresh\n",
        "\n",
        "result = assess_with_domain_check(env, reported_biomass_lb, is_dry_input, qr, mins, maxs)\n",
        "\n",
        "\n",
        "if result.get('feasible'):\n",
        "    print(f\"\\n✅ Feasible biomass report!\\n\")\n",
        "    print(f\"Input type:              {result['input_type']} biomass\")\n",
        "    print(f\"Reported biomass:        {result['reported_input_biomass_lb']:.2f} lb\")\n",
        "    print(f\"Converted dry biomass:   {result['reported_dry_biomass_lb']:.2f} lb\")\n",
        "    print(f\"Upper bound (dry):       {result['q95_dry_biomass_lb']:.2f} lb\")\n",
        "    print(f\"Reported / Q95 ratio:    {result['ratio']:.2f}\")\n",
        "\n",
        "    print(\"\\n🌿 Nutrient Removal (based on dry biomass):\")\n",
        "    print(f\"• Carbon (33%):          {result['carbon_lb']:.2f} lb\")\n",
        "    print(f\"• Nitrogen (2.5%):        {result['nitrogen_lb']:.2f} lb\")\n",
        "    print(f\"• Phosphorus (0.3%):      {result['phosphorus_lb']:.2f} lb\")\n",
        "\n",
        "    print(\"\\n💸 Credit Prices Used:\")\n",
        "    print(\"• Carbon:     $0.13 per lb\")\n",
        "    print(\"• Nitrogen:   $5.08 per lb\")\n",
        "    print(\"• Phosphorus: $11.15 per lb\")\n",
        "\n",
        "    print(\"\\n🔢 PhycoCoin Calculation:\")\n",
        "    print(\"Total PhycoCoin value = dry_biomass_lb × (\")\n",
        "    print(\"  0.33 × 0.13 + 0.025 × 5.08 + 0.003 × 11.15 )\")\n",
        "    print(f\"=> Total PhycoCoin value: ${result['total_usd']:.2f}\")\n",
        "else:\n",
        "    print(f\"\\n❌ Infeasible biomass report:\")\n",
        "    print(result.get('reason', 'Reported biomass exceeds model threshold'))"
      ]
    },
    {
      "cell_type": "code",
      "execution_count": 4,
      "metadata": {
        "colab": {
          "base_uri": "https://localhost:8080/"
        },
        "id": "1318276a",
        "outputId": "ed9d10c4-932d-41c7-be21-4eafc2da6fbd"
      },
      "outputs": [
        {
          "name": "stdout",
          "output_type": "stream",
          "text": [
            "Model saved successfully to 'quantile_regressor_model.pkl'\n"
          ]
        }
      ],
      "source": [
        "import pickle\n",
        "\n",
        "# Specify the filename to save the model\n",
        "model_filename = 'quantile_regressor_model.pkl'\n",
        "\n",
        "# Save the trained model to a file\n",
        "with open(model_filename, 'wb') as f:\n",
        "    pickle.dump(qr, f)\n",
        "\n",
        "print(f\"Model saved successfully to '{model_filename}'\")"
      ]
    }
  ],
  "metadata": {
    "colab": {
      "provenance": []
    },
    "kernelspec": {
      "display_name": "Python 3",
      "name": "python3"
    },
    "language_info": {
      "name": "python"
    }
  },
  "nbformat": 4,
  "nbformat_minor": 0
}
